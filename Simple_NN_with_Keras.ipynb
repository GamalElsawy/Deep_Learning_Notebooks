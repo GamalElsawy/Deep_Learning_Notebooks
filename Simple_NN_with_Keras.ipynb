{
  "nbformat": 4,
  "nbformat_minor": 0,
  "metadata": {
    "colab": {
      "name": "Simple-NN-with-Keras.ipynb",
      "provenance": []
    },
    "kernelspec": {
      "name": "python3",
      "display_name": "Python 3"
    }
  },
  "cells": [
    {
      "cell_type": "code",
      "metadata": {
        "id": "Laol26OqFxZD"
      },
      "source": [
        "import keras"
      ],
      "execution_count": 28,
      "outputs": []
    },
    {
      "cell_type": "code",
      "metadata": {
        "colab": {
          "base_uri": "https://localhost:8080/"
        },
        "id": "X1bDN3z_GjuH",
        "outputId": "2d2cd5ef-84d3-4a31-bf0c-c29f8a779fea"
      },
      "source": [
        "mnist = keras.datasets.mnist\r\n",
        "(X_train, y_train), (X_test, y_test) = mnist.load_data()\r\n",
        "\r\n",
        "#print(y_train[:5])"
      ],
      "execution_count": 29,
      "outputs": [
        {
          "output_type": "stream",
          "text": [
            "[5 0 4 1 9]\n"
          ],
          "name": "stdout"
        }
      ]
    },
    {
      "cell_type": "code",
      "metadata": {
        "id": "0K6MUpMMO5Lu"
      },
      "source": [
        "model = keras.models.Sequential()\r\n",
        "# the empty object of nn "
      ],
      "execution_count": 30,
      "outputs": []
    },
    {
      "cell_type": "code",
      "metadata": {
        "id": "Jb_EB-vPGwEm"
      },
      "source": [
        "model.add(keras.layers.Flatten())\r\n",
        "# Converts the multiD array to 1D array "
      ],
      "execution_count": 31,
      "outputs": []
    },
    {
      "cell_type": "code",
      "metadata": {
        "id": "Ggt64D2kMXTc"
      },
      "source": [
        "model.add(keras.layers.Dense(1028, activation='relu'))\r\n",
        "model.add(keras.layers.Dense(256, activation='relu'))\r\n",
        "model.add(keras.layers.Dense(64, activation='relu'))\r\n",
        "\r\n",
        "model.add(keras.layers.Dropout(0.2))\r\n",
        "model.add(keras.layers.Dense(10, activation='softmax'))\r\n"
      ],
      "execution_count": 32,
      "outputs": []
    },
    {
      "cell_type": "code",
      "metadata": {
        "id": "JiM3ideQNDip"
      },
      "source": [
        "model.compile(optimizer='adam', loss= 'sparse_categorical_crossentropy', metrics=['accuracy'])\r\n",
        "# loss = 'mse'                                  >>>                         In case of regession\r\n",
        "# loss = 'binary_crossentropy'                  >>>                         In case of binary classification\r\n",
        "# loss = 'sparse_categorical_crossentropy'      >>>                         In case of multi classification"
      ],
      "execution_count": 33,
      "outputs": []
    },
    {
      "cell_type": "code",
      "metadata": {
        "colab": {
          "base_uri": "https://localhost:8080/"
        },
        "id": "q4qWziXkO7Qq",
        "outputId": "e203bbfb-9cb9-4cd8-f34d-90f57abd588b"
      },
      "source": [
        "model.fit(X_train, y_train, epochs=15)"
      ],
      "execution_count": 34,
      "outputs": [
        {
          "output_type": "stream",
          "text": [
            "Epoch 1/15\n",
            "1875/1875 [==============================] - 20s 10ms/step - loss: 2.8789 - accuracy: 0.5208\n",
            "Epoch 2/15\n",
            "1875/1875 [==============================] - 19s 10ms/step - loss: 0.6954 - accuracy: 0.7922\n",
            "Epoch 3/15\n",
            "1875/1875 [==============================] - 19s 10ms/step - loss: 0.3882 - accuracy: 0.8866\n",
            "Epoch 4/15\n",
            "1875/1875 [==============================] - 20s 10ms/step - loss: 0.2921 - accuracy: 0.9136\n",
            "Epoch 5/15\n",
            "1875/1875 [==============================] - 19s 10ms/step - loss: 0.2104 - accuracy: 0.9418\n",
            "Epoch 6/15\n",
            "1875/1875 [==============================] - 19s 10ms/step - loss: 0.1957 - accuracy: 0.9496\n",
            "Epoch 7/15\n",
            "1875/1875 [==============================] - 19s 10ms/step - loss: 0.1680 - accuracy: 0.9554\n",
            "Epoch 8/15\n",
            "1875/1875 [==============================] - 19s 10ms/step - loss: 0.1543 - accuracy: 0.9603\n",
            "Epoch 9/15\n",
            "1875/1875 [==============================] - 19s 10ms/step - loss: 0.1423 - accuracy: 0.9629\n",
            "Epoch 10/15\n",
            "1875/1875 [==============================] - 19s 10ms/step - loss: 0.1298 - accuracy: 0.9676\n",
            "Epoch 11/15\n",
            "1875/1875 [==============================] - 19s 10ms/step - loss: 0.1055 - accuracy: 0.9728\n",
            "Epoch 12/15\n",
            "1875/1875 [==============================] - 19s 10ms/step - loss: 0.1236 - accuracy: 0.9716\n",
            "Epoch 13/15\n",
            "1875/1875 [==============================] - 19s 10ms/step - loss: 0.1074 - accuracy: 0.9721\n",
            "Epoch 14/15\n",
            "1875/1875 [==============================] - 19s 10ms/step - loss: 0.1210 - accuracy: 0.9704\n",
            "Epoch 15/15\n",
            "1875/1875 [==============================] - 19s 10ms/step - loss: 0.1009 - accuracy: 0.9745\n"
          ],
          "name": "stdout"
        },
        {
          "output_type": "execute_result",
          "data": {
            "text/plain": [
              "<tensorflow.python.keras.callbacks.History at 0x7f8b9ebf4400>"
            ]
          },
          "metadata": {
            "tags": []
          },
          "execution_count": 34
        }
      ]
    },
    {
      "cell_type": "code",
      "metadata": {
        "colab": {
          "base_uri": "https://localhost:8080/"
        },
        "id": "pOrd1Y3EPCwC",
        "outputId": "92d1ab29-5835-4b25-f4a0-9c337d99c050"
      },
      "source": [
        "model.predict(X_test)"
      ],
      "execution_count": 35,
      "outputs": [
        {
          "output_type": "execute_result",
          "data": {
            "text/plain": [
              "array([[0.0000000e+00, 5.5788112e-29, 0.0000000e+00, ..., 1.0000000e+00,\n",
              "        0.0000000e+00, 1.0887704e-22],\n",
              "       [2.9984494e-22, 1.5449146e-12, 1.0000000e+00, ..., 1.2396726e-08,\n",
              "        2.1183472e-17, 1.4282996e-28],\n",
              "       [0.0000000e+00, 1.0000000e+00, 0.0000000e+00, ..., 0.0000000e+00,\n",
              "        0.0000000e+00, 0.0000000e+00],\n",
              "       ...,\n",
              "       [0.0000000e+00, 6.6014711e-12, 0.0000000e+00, ..., 4.2998205e-21,\n",
              "        1.4969703e-21, 8.7062440e-21],\n",
              "       [0.0000000e+00, 0.0000000e+00, 0.0000000e+00, ..., 0.0000000e+00,\n",
              "        0.0000000e+00, 0.0000000e+00],\n",
              "       [0.0000000e+00, 0.0000000e+00, 0.0000000e+00, ..., 0.0000000e+00,\n",
              "        0.0000000e+00, 0.0000000e+00]], dtype=float32)"
            ]
          },
          "metadata": {
            "tags": []
          },
          "execution_count": 35
        }
      ]
    },
    {
      "cell_type": "code",
      "metadata": {
        "colab": {
          "base_uri": "https://localhost:8080/"
        },
        "id": "CX8UqoN_RR70",
        "outputId": "9299c384-e78a-4c04-f83c-f5b071425f38"
      },
      "source": [
        "val_loss, val_acc = model.evaluate(X_test, y_test)\r\n",
        "val_acc"
      ],
      "execution_count": 36,
      "outputs": [
        {
          "output_type": "stream",
          "text": [
            "313/313 [==============================] - 1s 4ms/step - loss: 0.2596 - accuracy: 0.9696\n"
          ],
          "name": "stdout"
        },
        {
          "output_type": "execute_result",
          "data": {
            "text/plain": [
              "0.9696000218391418"
            ]
          },
          "metadata": {
            "tags": []
          },
          "execution_count": 36
        }
      ]
    },
    {
      "cell_type": "code",
      "metadata": {
        "colab": {
          "base_uri": "https://localhost:8080/"
        },
        "id": "LOpyajnaSc1x",
        "outputId": "9d630c64-91dc-4368-b659-b62bc2bff242"
      },
      "source": [
        "model.save('Simple-NN-with-Keras.model')"
      ],
      "execution_count": 37,
      "outputs": [
        {
          "output_type": "stream",
          "text": [
            "INFO:tensorflow:Assets written to: Simple-NN-with-Keras.model/assets\n"
          ],
          "name": "stdout"
        }
      ]
    },
    {
      "cell_type": "code",
      "metadata": {
        "id": "uTcKeW2ESsaA"
      },
      "source": [
        "saved_model = keras.models.load_model('Simple-NN-with-Keras.model')"
      ],
      "execution_count": 38,
      "outputs": []
    }
  ]
}
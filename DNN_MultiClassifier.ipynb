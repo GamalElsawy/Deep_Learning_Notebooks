{
  "nbformat": 4,
  "nbformat_minor": 0,
  "metadata": {
    "colab": {
      "name": "DNN-MultiClassifier.ipynb",
      "private_outputs": true,
      "provenance": []
    },
    "kernelspec": {
      "name": "python3",
      "display_name": "Python 3"
    },
    "accelerator": "GPU"
  },
  "cells": [
    {
      "cell_type": "code",
      "metadata": {
        "id": "kIbZDTT6LT_B"
      },
      "source": [
        "!pip uninstall -y kaggle\r\n",
        "!pip install kaggle==1.5.6\r\n",
        "%env KAGGLE_USERNAME = bassamsabber\r\n",
        "%env KAGGLE_KEY = 717678f8ebfb53d84e9c47444c275871\r\n",
        "!kaggle competitions download -c computationalintelligencesc2020\r\n",
        "!unzip DataSet\r\n",
        "!unzip computationalintelligencesc2020"
      ],
      "execution_count": null,
      "outputs": []
    },
    {
      "cell_type": "code",
      "metadata": {
        "id": "HmfCoYOPLesS"
      },
      "source": [
        "import pandas as pd\r\n",
        "import numpy as np\r\n",
        "#import matplotlib.pyplot as plt\r\n",
        "import os, cv2\r\n",
        "import tensorflow as tf\r\n",
        "import keras\r\n",
        "from tqdm import tqdm"
      ],
      "execution_count": null,
      "outputs": []
    },
    {
      "cell_type": "code",
      "metadata": {
        "id": "5HW1NZtvMXDn"
      },
      "source": [
        "code = {'buildings':0 ,'forest':1,'glacier':2,'mountain':3,'sea':4,'street':5}"
      ],
      "execution_count": null,
      "outputs": []
    },
    {
      "cell_type": "code",
      "metadata": {
        "id": "ezrWMLKiMaql"
      },
      "source": [
        "IMG_SIZE = 100\r\n",
        "DATA_DIR = r'/content/Scenes training set/Scenes training set'\r\n",
        "size = []\r\n",
        "categories = ['buildings','forest','glacier','mountain','sea','street']\r\n",
        "training_data = []\r\n",
        "\r\n",
        "for category in categories:\r\n",
        "  path = os.path.join(DATA_DIR, category)\r\n",
        "  class_label = categories.index(category)\r\n",
        "\r\n",
        "  for img in tqdm(os.listdir(path)):\r\n",
        "    try:\r\n",
        "      img_arr = cv2.imread(os.path.join(path, img), cv2.IMREAD_GRAYSCALE)\r\n",
        "      img_arr = cv2.resize(img_arr, (IMG_SIZE, IMG_SIZE))\r\n",
        "      size.append(img_arr.shape)\r\n",
        "      training_data.append([img_arr, class_label])\r\n",
        "    except Exception as e:\r\n",
        "      pass\r\n",
        "\r\n",
        "val_cnts = pd.Series(size).value_counts()\r\n",
        "print(val_cnts)"
      ],
      "execution_count": null,
      "outputs": []
    },
    {
      "cell_type": "code",
      "metadata": {
        "id": "OdUqBueKNgXB"
      },
      "source": [
        "import random\r\n",
        "random.shuffle(training_data)\r\n",
        "#print(training_data[:10])\r\n",
        "X = []\r\n",
        "y = []\r\n",
        "\r\n",
        "for features, label in training_data:\r\n",
        "  X.append(features)\r\n",
        "  y.append(label)"
      ],
      "execution_count": null,
      "outputs": []
    },
    {
      "cell_type": "code",
      "metadata": {
        "id": "cNaTmtEQN5Qo"
      },
      "source": [
        "X = np.array(X).reshape(-1,100,100,1)\r\n",
        "y = np.array(y)\r\n",
        "#X =np.expand_dims(X, axis=1)\r\n",
        "print(f'X_train shape  is {X.shape}')\r\n",
        "print(f'y_train shape  is {y.shape}')"
      ],
      "execution_count": null,
      "outputs": []
    },
    {
      "cell_type": "code",
      "metadata": {
        "id": "rvdueL12OYD8"
      },
      "source": [
        "model = keras.models.Sequential([\r\n",
        "        keras.layers.Conv2D(200,kernel_size=(3,3),activation='relu',input_shape=(IMG_SIZE,IMG_SIZE,1)),\r\n",
        "        keras.layers.Conv2D(150,kernel_size=(3,3),activation='relu'),\r\n",
        "        keras.layers.MaxPool2D(4,4),\r\n",
        "        keras.layers.Conv2D(120,kernel_size=(3,3),activation='relu'),    \r\n",
        "        keras.layers.Conv2D(80,kernel_size=(3,3),activation='relu'),    \r\n",
        "        keras.layers.Conv2D(50,kernel_size=(3,3),activation='relu'),\r\n",
        "        keras.layers.MaxPool2D(4,4),\r\n",
        "        keras.layers.Flatten() ,    \r\n",
        "        keras.layers.Dense(120,activation='relu') ,    \r\n",
        "        keras.layers.Dense(100,activation='relu') ,    \r\n",
        "        keras.layers.Dense(50,activation='relu') ,        \r\n",
        "        keras.layers.Dropout(rate=0.5) ,            \r\n",
        "        keras.layers.Dense(6,activation='softmax') ,    \r\n",
        "        ])\r\n"
      ],
      "execution_count": null,
      "outputs": []
    },
    {
      "cell_type": "code",
      "metadata": {
        "id": "1JZaRJlCOlaN"
      },
      "source": [
        "model.compile(optimizer ='adam',loss='sparse_categorical_crossentropy',metrics=['accuracy'])"
      ],
      "execution_count": null,
      "outputs": []
    },
    {
      "cell_type": "code",
      "metadata": {
        "id": "hvIzG-dWOo0f"
      },
      "source": [
        "print('Model Details are : ')\r\n",
        "print(model.summary())"
      ],
      "execution_count": null,
      "outputs": []
    },
    {
      "cell_type": "code",
      "metadata": {
        "id": "AX88-lSlOtI9"
      },
      "source": [
        "epochs = 20\r\n",
        "ThisModel = model.fit(X, y, epochs=epochs,batch_size=64,verbose=1)"
      ],
      "execution_count": null,
      "outputs": []
    },
    {
      "cell_type": "code",
      "metadata": {
        "id": "Fy52oL27gEEg"
      },
      "source": [
        "DATA_DIR_TEST = r'/content/Scenes testing test/Scenes testing test'\r\n",
        "images = []\r\n",
        "testing_data = []\r\n",
        "for img in tqdm(os.listdir(DATA_DIR_TEST)):\r\n",
        "  try:\r\n",
        "    images.append(img)\r\n",
        "    img_arr = cv2.imread(os.path.join(DATA_DIR_TEST, img), cv2.IMREAD_GRAYSCALE)\r\n",
        "    img_arr = cv2.resize(img_arr, (IMG_SIZE, IMG_SIZE))\r\n",
        "    testing_data.append(img_arr)\r\n",
        "  except Exception as e:\r\n",
        "    pass\r\n",
        "len(testing_data)"
      ],
      "execution_count": null,
      "outputs": []
    },
    {
      "cell_type": "code",
      "metadata": {
        "id": "6NozN1llgLwR"
      },
      "source": [
        "testing_data = np.array(testing_data).reshape(-1,100,100,1)"
      ],
      "execution_count": null,
      "outputs": []
    },
    {
      "cell_type": "code",
      "metadata": {
        "id": "eih4JGwUgPu6"
      },
      "source": [
        "outputs = model.predict(testing_data)\r\n",
        "final_outputs = np.argmax(outputs, axis=1)\r\n",
        "submit = pd.read_csv('/content/submit.csv')\r\n",
        "submit['Image'] = images\r\n",
        "submit['Label'] = final_outputs\r\n",
        "submit.to_csv(\"submit.csv\")\r\n",
        "print(\"Done!\")"
      ],
      "execution_count": null,
      "outputs": []
    }
  ]
}